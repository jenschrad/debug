{
 "cells": [
  {
   "cell_type": "code",
   "execution_count": 2,
   "id": "b6db1077",
   "metadata": {},
   "outputs": [
    {
     "name": "stdout",
     "output_type": "stream",
     "text": [
      "2017\n",
      "2022\n",
      "2027\n",
      "2032\n",
      "2037\n",
      "2042\n",
      "2047\n"
     ]
    }
   ],
   "source": [
    "# This program displays every fifth year\n",
    "# starting with 2017, for 30 years.\n",
    "\n",
    "year = 0\n",
    "start_year = 2017\n",
    "factor = 5\n",
    "factor2 = 30\n",
    "end_year = 0\n",
    "\n",
    "year = start_year\n",
    "end_year = start_year + factor2\n",
    "\n",
    "while year <= end_year:\n",
    "    print(year)\n",
    "    year = (year + factor) \n",
    "    \n",
    "\n"
   ]
  },
  {
   "cell_type": "code",
   "execution_count": null,
   "id": "a5dea908",
   "metadata": {},
   "outputs": [],
   "source": []
  }
 ],
 "metadata": {
  "kernelspec": {
   "display_name": "Python 3 (ipykernel)",
   "language": "python",
   "name": "python3"
  },
  "language_info": {
   "codemirror_mode": {
    "name": "ipython",
    "version": 3
   },
   "file_extension": ".py",
   "mimetype": "text/x-python",
   "name": "python",
   "nbconvert_exporter": "python",
   "pygments_lexer": "ipython3",
   "version": "3.9.12"
  }
 },
 "nbformat": 4,
 "nbformat_minor": 5
}
