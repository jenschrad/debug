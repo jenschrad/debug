{
 "cells": [
  {
   "cell_type": "code",
   "execution_count": null,
   "id": "9bb352ea",
   "metadata": {
    "scrolled": true
   },
   "outputs": [],
   "source": [
    "# this program will take user input for student names until \"XXX\" is entered.\n",
    "# the program will then take user input for the student's quiz scores until 0 is entered.\n",
    "# the program will output the student's name and total quiz score.\n",
    "\n",
    "name = \"\"\n",
    "quit_name = \"XXX\"\n",
    "score = 0\n",
    "quit_score = 0\n",
    "total = 0\n",
    "\n",
    "name = str(input(\"Please enter name or XXX to quit: \"))\n",
    "\n",
    "while name != quit_name:\n",
    "    score = int(input(\"Please enter the quiz score or 0 to quit: \"))\n",
    "    total = total + score\n",
    "    if score == quit_score:\n",
    "        break\n",
    "        \n",
    "print(name,\"'s\", \"Total: \", total)\n",
    "\n",
    "print(\"Job complete.\")\n",
    "    "
   ]
  },
  {
   "cell_type": "code",
   "execution_count": null,
   "id": "265ab602",
   "metadata": {},
   "outputs": [],
   "source": []
  },
  {
   "cell_type": "code",
   "execution_count": null,
   "id": "96d558ee",
   "metadata": {},
   "outputs": [],
   "source": []
  },
  {
   "cell_type": "code",
   "execution_count": null,
   "id": "a1dce56c",
   "metadata": {},
   "outputs": [],
   "source": []
  }
 ],
 "metadata": {
  "kernelspec": {
   "display_name": "Python 3 (ipykernel)",
   "language": "python",
   "name": "python3"
  },
  "language_info": {
   "codemirror_mode": {
    "name": "ipython",
    "version": 3
   },
   "file_extension": ".py",
   "mimetype": "text/x-python",
   "name": "python",
   "nbconvert_exporter": "python",
   "pygments_lexer": "ipython3",
   "version": "3.9.12"
  }
 },
 "nbformat": 4,
 "nbformat_minor": 5
}
